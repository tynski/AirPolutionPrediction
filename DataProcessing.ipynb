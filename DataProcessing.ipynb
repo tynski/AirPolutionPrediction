{
 "cells": [
  {
   "cell_type": "code",
   "execution_count": 1,
   "metadata": {},
   "outputs": [],
   "source": [
    "import pandas as pd\n",
    "import matplotlib.pyplot as plt\n",
    "import numpy as np"
   ]
  },
  {
   "cell_type": "code",
   "execution_count": 2,
   "metadata": {},
   "outputs": [],
   "source": [
    "df = pd.read_excel(\"Data/2017_PM10_1g.xlsx\") # load"
   ]
  },
  {
   "cell_type": "code",
   "execution_count": 3,
   "metadata": {},
   "outputs": [
    {
     "data": {
      "text/plain": [
       "Nr          Kod stacji\n",
       "1         DsBoleslaMOB\n",
       "2         DsDzialoszyn\n",
       "3         DsDziePilsud\n",
       "4         DsJelGorOgin\n",
       "5         DsKlodzSzkol\n",
       "6          DsKudowaMOB\n",
       "7         DsLegAlRzecz\n",
       "8         DsNowRudSreb\n",
       "9         DsWalbrzWyso\n",
       "10        DsWrocWybCon\n",
       "11        DsZabkPowWar\n",
       "12        KpBydPlPozna\n",
       "13        KpBydWarszaw\n",
       "14        KpGrudPilsud\n",
       "15        KpInowSolank\n",
       "16        KpToruDziewu\n",
       "17        KpToruKaszow\n",
       "18        KpToruWSikor\n",
       "19     KpWloclChelmMOB\n",
       "20        KpWloclOkrze\n",
       "21        LbLubObywate\n",
       "22        LbZamoHrubie\n",
       "23        LdGajewUjWod\n",
       "24        LdLodzCzerni\n",
       "25        LdLodzGdansk\n",
       "26        LdLodzJanPaw\n",
       "27        LdLodzKilins\n",
       "28        LdPabiKonsta\n",
       "29        LdPioTrKraPr\n",
       "            ...       \n",
       "94        SlBielKossak\n",
       "95        SlCiesMickie\n",
       "96        SlCzestoArmK\n",
       "97        SlCzestoBacz\n",
       "98        SlDabro1000L\n",
       "99        SlGliwicMewy\n",
       "100       SlKatoKossut\n",
       "101       SlRybniBorki\n",
       "102       SlSosnoLubel\n",
       "103       SlTychyTolst\n",
       "104       SlUstronSana\n",
       "105       SlWodzGalczy\n",
       "106       SlZabSkloCur\n",
       "107       SlZlotPotLes\n",
       "108       SlZywieKoper\n",
       "109       WmElbBazynsk\n",
       "110       WmElkStadion\n",
       "111       WmGoldJacwie\n",
       "112       WmOlsPuszkin\n",
       "113       WmOstrPilsud\n",
       "114       WpBoroDrapal\n",
       "115       WpKaliSawick\n",
       "116       WpKoniWyszyn\n",
       "117       WpPilaKusoci\n",
       "118       WpPoznDabrow\n",
       "119       WpPoznPolank\n",
       "120       ZpKoszArKraj\n",
       "121       ZpSzczAndr01\n",
       "122       ZpSzczecPrze\n",
       "123       ZpSzczLacz04\n",
       "Name: 0, Length: 124, dtype: object"
      ]
     },
     "execution_count": 3,
     "metadata": {},
     "output_type": "execute_result"
    }
   ],
   "source": [
    "df.iloc[0,:]"
   ]
  },
  {
   "cell_type": "code",
   "execution_count": 4,
   "metadata": {},
   "outputs": [
    {
     "data": {
      "text/html": [
       "<div>\n",
       "<style scoped>\n",
       "    .dataframe tbody tr th:only-of-type {\n",
       "        vertical-align: middle;\n",
       "    }\n",
       "\n",
       "    .dataframe tbody tr th {\n",
       "        vertical-align: top;\n",
       "    }\n",
       "\n",
       "    .dataframe thead th {\n",
       "        text-align: right;\n",
       "    }\n",
       "</style>\n",
       "<table border=\"1\" class=\"dataframe\">\n",
       "  <thead>\n",
       "    <tr style=\"text-align: right;\">\n",
       "      <th></th>\n",
       "      <th>Nr</th>\n",
       "      <th>1</th>\n",
       "      <th>2</th>\n",
       "      <th>3</th>\n",
       "      <th>4</th>\n",
       "      <th>5</th>\n",
       "      <th>6</th>\n",
       "      <th>7</th>\n",
       "      <th>8</th>\n",
       "      <th>9</th>\n",
       "      <th>...</th>\n",
       "      <th>114</th>\n",
       "      <th>115</th>\n",
       "      <th>116</th>\n",
       "      <th>117</th>\n",
       "      <th>118</th>\n",
       "      <th>119</th>\n",
       "      <th>120</th>\n",
       "      <th>121</th>\n",
       "      <th>122</th>\n",
       "      <th>123</th>\n",
       "    </tr>\n",
       "  </thead>\n",
       "  <tbody>\n",
       "    <tr>\n",
       "      <th>0</th>\n",
       "      <td>Kod stacji</td>\n",
       "      <td>DsBoleslaMOB</td>\n",
       "      <td>DsDzialoszyn</td>\n",
       "      <td>DsDziePilsud</td>\n",
       "      <td>DsJelGorOgin</td>\n",
       "      <td>DsKlodzSzkol</td>\n",
       "      <td>DsKudowaMOB</td>\n",
       "      <td>DsLegAlRzecz</td>\n",
       "      <td>DsNowRudSreb</td>\n",
       "      <td>DsWalbrzWyso</td>\n",
       "      <td>...</td>\n",
       "      <td>WpBoroDrapal</td>\n",
       "      <td>WpKaliSawick</td>\n",
       "      <td>WpKoniWyszyn</td>\n",
       "      <td>WpPilaKusoci</td>\n",
       "      <td>WpPoznDabrow</td>\n",
       "      <td>WpPoznPolank</td>\n",
       "      <td>ZpKoszArKraj</td>\n",
       "      <td>ZpSzczAndr01</td>\n",
       "      <td>ZpSzczecPrze</td>\n",
       "      <td>ZpSzczLacz04</td>\n",
       "    </tr>\n",
       "    <tr>\n",
       "      <th>1</th>\n",
       "      <td>Wskaźnik</td>\n",
       "      <td>PM10</td>\n",
       "      <td>PM10</td>\n",
       "      <td>PM10</td>\n",
       "      <td>PM10</td>\n",
       "      <td>PM10</td>\n",
       "      <td>PM10</td>\n",
       "      <td>PM10</td>\n",
       "      <td>PM10</td>\n",
       "      <td>PM10</td>\n",
       "      <td>...</td>\n",
       "      <td>PM10</td>\n",
       "      <td>PM10</td>\n",
       "      <td>PM10</td>\n",
       "      <td>PM10</td>\n",
       "      <td>PM10</td>\n",
       "      <td>PM10</td>\n",
       "      <td>PM10</td>\n",
       "      <td>PM10</td>\n",
       "      <td>PM10</td>\n",
       "      <td>PM10</td>\n",
       "    </tr>\n",
       "    <tr>\n",
       "      <th>2</th>\n",
       "      <td>Czas uśredniania</td>\n",
       "      <td>1g</td>\n",
       "      <td>1g</td>\n",
       "      <td>1g</td>\n",
       "      <td>1g</td>\n",
       "      <td>1g</td>\n",
       "      <td>1g</td>\n",
       "      <td>1g</td>\n",
       "      <td>1g</td>\n",
       "      <td>1g</td>\n",
       "      <td>...</td>\n",
       "      <td>1g</td>\n",
       "      <td>1g</td>\n",
       "      <td>1g</td>\n",
       "      <td>1g</td>\n",
       "      <td>1g</td>\n",
       "      <td>1g</td>\n",
       "      <td>1g</td>\n",
       "      <td>1g</td>\n",
       "      <td>1g</td>\n",
       "      <td>1g</td>\n",
       "    </tr>\n",
       "    <tr>\n",
       "      <th>3</th>\n",
       "      <td>Jednostka</td>\n",
       "      <td>ug/m3</td>\n",
       "      <td>ug/m3</td>\n",
       "      <td>ug/m3</td>\n",
       "      <td>ug/m3</td>\n",
       "      <td>ug/m3</td>\n",
       "      <td>ug/m3</td>\n",
       "      <td>ug/m3</td>\n",
       "      <td>ug/m3</td>\n",
       "      <td>ug/m3</td>\n",
       "      <td>...</td>\n",
       "      <td>ug/m3</td>\n",
       "      <td>ug/m3</td>\n",
       "      <td>ug/m3</td>\n",
       "      <td>ug/m3</td>\n",
       "      <td>ug/m3</td>\n",
       "      <td>ug/m3</td>\n",
       "      <td>ug/m3</td>\n",
       "      <td>ug/m3</td>\n",
       "      <td>ug/m3</td>\n",
       "      <td>ug/m3</td>\n",
       "    </tr>\n",
       "    <tr>\n",
       "      <th>4</th>\n",
       "      <td>Kod stanowiska</td>\n",
       "      <td>DsBoleslaMOB-PM10-1g</td>\n",
       "      <td>DsDzialoszyn-PM10-1g</td>\n",
       "      <td>DsDziePilsud-PM10-1g</td>\n",
       "      <td>DsJelGorOgin-PM10-1g</td>\n",
       "      <td>DsKlodzSzkol-PM10-1g</td>\n",
       "      <td>DsKudowaMOB-PM10-1g</td>\n",
       "      <td>DsLegAlRzecz-PM10-1g</td>\n",
       "      <td>DsNowRudSreb-PM10-1g</td>\n",
       "      <td>DsWalbrzWyso-PM10-1g</td>\n",
       "      <td>...</td>\n",
       "      <td>WpBoroDrapal-PM10-1g</td>\n",
       "      <td>WpKaliSawick-PM10-1g</td>\n",
       "      <td>WpKoniWyszyn-PM10-1g</td>\n",
       "      <td>WpPilaKusoci-PM10-1g</td>\n",
       "      <td>WpPoznDabrow-PM10-1g</td>\n",
       "      <td>WpPoznPolank-PM10-1g</td>\n",
       "      <td>ZpKoszArKraj-PM10-1g</td>\n",
       "      <td>ZpSzczAndr01-PM10-1g</td>\n",
       "      <td>ZpSzczecPrze-PM10-1g</td>\n",
       "      <td>ZpSzczLacz04-PM10-1g</td>\n",
       "    </tr>\n",
       "  </tbody>\n",
       "</table>\n",
       "<p>5 rows × 124 columns</p>\n",
       "</div>"
      ],
      "text/plain": [
       "                 Nr                     1                     2  \\\n",
       "0        Kod stacji          DsBoleslaMOB          DsDzialoszyn   \n",
       "1          Wskaźnik                  PM10                  PM10   \n",
       "2  Czas uśredniania                    1g                    1g   \n",
       "3         Jednostka                 ug/m3                 ug/m3   \n",
       "4    Kod stanowiska  DsBoleslaMOB-PM10-1g  DsDzialoszyn-PM10-1g   \n",
       "\n",
       "                      3                     4                     5  \\\n",
       "0          DsDziePilsud          DsJelGorOgin          DsKlodzSzkol   \n",
       "1                  PM10                  PM10                  PM10   \n",
       "2                    1g                    1g                    1g   \n",
       "3                 ug/m3                 ug/m3                 ug/m3   \n",
       "4  DsDziePilsud-PM10-1g  DsJelGorOgin-PM10-1g  DsKlodzSzkol-PM10-1g   \n",
       "\n",
       "                     6                     7                     8  \\\n",
       "0          DsKudowaMOB          DsLegAlRzecz          DsNowRudSreb   \n",
       "1                 PM10                  PM10                  PM10   \n",
       "2                   1g                    1g                    1g   \n",
       "3                ug/m3                 ug/m3                 ug/m3   \n",
       "4  DsKudowaMOB-PM10-1g  DsLegAlRzecz-PM10-1g  DsNowRudSreb-PM10-1g   \n",
       "\n",
       "                      9  ...                   114                   115  \\\n",
       "0          DsWalbrzWyso  ...          WpBoroDrapal          WpKaliSawick   \n",
       "1                  PM10  ...                  PM10                  PM10   \n",
       "2                    1g  ...                    1g                    1g   \n",
       "3                 ug/m3  ...                 ug/m3                 ug/m3   \n",
       "4  DsWalbrzWyso-PM10-1g  ...  WpBoroDrapal-PM10-1g  WpKaliSawick-PM10-1g   \n",
       "\n",
       "                    116                   117                   118  \\\n",
       "0          WpKoniWyszyn          WpPilaKusoci          WpPoznDabrow   \n",
       "1                  PM10                  PM10                  PM10   \n",
       "2                    1g                    1g                    1g   \n",
       "3                 ug/m3                 ug/m3                 ug/m3   \n",
       "4  WpKoniWyszyn-PM10-1g  WpPilaKusoci-PM10-1g  WpPoznDabrow-PM10-1g   \n",
       "\n",
       "                    119                   120                   121  \\\n",
       "0          WpPoznPolank          ZpKoszArKraj          ZpSzczAndr01   \n",
       "1                  PM10                  PM10                  PM10   \n",
       "2                    1g                    1g                    1g   \n",
       "3                 ug/m3                 ug/m3                 ug/m3   \n",
       "4  WpPoznPolank-PM10-1g  ZpKoszArKraj-PM10-1g  ZpSzczAndr01-PM10-1g   \n",
       "\n",
       "                    122                   123  \n",
       "0          ZpSzczecPrze          ZpSzczLacz04  \n",
       "1                  PM10                  PM10  \n",
       "2                    1g                    1g  \n",
       "3                 ug/m3                 ug/m3  \n",
       "4  ZpSzczecPrze-PM10-1g  ZpSzczLacz04-PM10-1g  \n",
       "\n",
       "[5 rows x 124 columns]"
      ]
     },
     "execution_count": 4,
     "metadata": {},
     "output_type": "execute_result"
    }
   ],
   "source": [
    "df.head()                             # look"
   ]
  },
  {
   "cell_type": "code",
   "execution_count": 5,
   "metadata": {},
   "outputs": [
    {
     "name": "stdout",
     "output_type": "stream",
     "text": [
      "<class 'pandas.core.frame.DataFrame'>\n",
      "RangeIndex: 8765 entries, 0 to 8764\n",
      "Columns: 124 entries, Nr to 123\n",
      "dtypes: object(124)\n",
      "memory usage: 8.3+ MB\n"
     ]
    }
   ],
   "source": [
    "df.info()   # they are not stored as nunmeric data"
   ]
  },
  {
   "cell_type": "markdown",
   "metadata": {},
   "source": [
    "# Select best stations"
   ]
  },
  {
   "cell_type": "code",
   "execution_count": 6,
   "metadata": {},
   "outputs": [
    {
     "data": {
      "text/html": [
       "<div>\n",
       "<style scoped>\n",
       "    .dataframe tbody tr th:only-of-type {\n",
       "        vertical-align: middle;\n",
       "    }\n",
       "\n",
       "    .dataframe tbody tr th {\n",
       "        vertical-align: top;\n",
       "    }\n",
       "\n",
       "    .dataframe thead th {\n",
       "        text-align: right;\n",
       "    }\n",
       "</style>\n",
       "<table border=\"1\" class=\"dataframe\">\n",
       "  <thead>\n",
       "    <tr style=\"text-align: right;\">\n",
       "      <th></th>\n",
       "      <th>MpTarRoSitko</th>\n",
       "      <th>SlTychyTolst</th>\n",
       "      <th>ZpKoszArKraj</th>\n",
       "      <th>MpNoSaczNadb</th>\n",
       "      <th>ZpSzczecPrze</th>\n",
       "      <th>MpKrakAlKras</th>\n",
       "      <th>PmGdaKacze02</th>\n",
       "      <th>SlWodzGalczy</th>\n",
       "      <th>SlRybniBorki</th>\n",
       "      <th>MzPlocMiReja</th>\n",
       "    </tr>\n",
       "  </thead>\n",
       "  <tbody>\n",
       "    <tr>\n",
       "      <th>5</th>\n",
       "      <td>286,547</td>\n",
       "      <td>43,767</td>\n",
       "      <td>24,221</td>\n",
       "      <td>430,315</td>\n",
       "      <td>20,2558</td>\n",
       "      <td>213,733</td>\n",
       "      <td>22,1</td>\n",
       "      <td>97,5863</td>\n",
       "      <td>56,9406</td>\n",
       "      <td>49,591231</td>\n",
       "    </tr>\n",
       "    <tr>\n",
       "      <th>6</th>\n",
       "      <td>277,584</td>\n",
       "      <td>36,3929</td>\n",
       "      <td>24,9919</td>\n",
       "      <td>289,301</td>\n",
       "      <td>17,4999</td>\n",
       "      <td>213,868</td>\n",
       "      <td>11,9</td>\n",
       "      <td>97,6305</td>\n",
       "      <td>60,6056</td>\n",
       "      <td>39,695604</td>\n",
       "    </tr>\n",
       "    <tr>\n",
       "      <th>7</th>\n",
       "      <td>294,011</td>\n",
       "      <td>38,949</td>\n",
       "      <td>15,8157</td>\n",
       "      <td>251,635</td>\n",
       "      <td>8,88873</td>\n",
       "      <td>221,923</td>\n",
       "      <td>4,8</td>\n",
       "      <td>66,6252</td>\n",
       "      <td>54,7129</td>\n",
       "      <td>39,695604</td>\n",
       "    </tr>\n",
       "    <tr>\n",
       "      <th>8</th>\n",
       "      <td>234,649</td>\n",
       "      <td>39,6057</td>\n",
       "      <td>9,87341</td>\n",
       "      <td>235,258</td>\n",
       "      <td>7,46767</td>\n",
       "      <td>244,69</td>\n",
       "      <td>5,1</td>\n",
       "      <td>53,7598</td>\n",
       "      <td>47,2334</td>\n",
       "      <td>39,695604</td>\n",
       "    </tr>\n",
       "    <tr>\n",
       "      <th>9</th>\n",
       "      <td>196,482</td>\n",
       "      <td>37,7051</td>\n",
       "      <td>13,6186</td>\n",
       "      <td>189,809</td>\n",
       "      <td>8,14248</td>\n",
       "      <td>224,673</td>\n",
       "      <td>5,1</td>\n",
       "      <td>48,948</td>\n",
       "      <td>42,1408</td>\n",
       "      <td>39,695604</td>\n",
       "    </tr>\n",
       "  </tbody>\n",
       "</table>\n",
       "</div>"
      ],
      "text/plain": [
       "  MpTarRoSitko SlTychyTolst ZpKoszArKraj MpNoSaczNadb ZpSzczecPrze  \\\n",
       "5      286,547       43,767       24,221      430,315      20,2558   \n",
       "6      277,584      36,3929      24,9919      289,301      17,4999   \n",
       "7      294,011       38,949      15,8157      251,635      8,88873   \n",
       "8      234,649      39,6057      9,87341      235,258      7,46767   \n",
       "9      196,482      37,7051      13,6186      189,809      8,14248   \n",
       "\n",
       "  MpKrakAlKras PmGdaKacze02 SlWodzGalczy SlRybniBorki MzPlocMiReja  \n",
       "5      213,733         22,1      97,5863      56,9406    49,591231  \n",
       "6      213,868         11,9      97,6305      60,6056    39,695604  \n",
       "7      221,923          4,8      66,6252      54,7129    39,695604  \n",
       "8       244,69          5,1      53,7598      47,2334    39,695604  \n",
       "9      224,673          5,1       48,948      42,1408    39,695604  "
      ]
     },
     "execution_count": 6,
     "metadata": {},
     "output_type": "execute_result"
    }
   ],
   "source": [
    "count_nans = df.iloc[5:, 2:].isna().sum()\n",
    "best_stations_index = count_nans.nsmallest(10).index\n",
    "best_stations = df[best_stations_index].iloc[5:,:]\n",
    "best_stations.columns = df[best_stations_index].loc[[0]].values[0]\n",
    "best_stations.head()"
   ]
  },
  {
   "cell_type": "markdown",
   "metadata": {},
   "source": [
    "# Preprocessing"
   ]
  },
  {
   "cell_type": "code",
   "execution_count": 7,
   "metadata": {},
   "outputs": [],
   "source": [
    "def preprocessData(data):\n",
    "    data_dot = data.str.replace(\",\",\".\")\n",
    "    data_numeric = pd.to_numeric(data_dot)"
   ]
  },
  {
   "cell_type": "code",
   "execution_count": 8,
   "metadata": {},
   "outputs": [
    {
     "data": {
      "text/html": [
       "<div>\n",
       "<style scoped>\n",
       "    .dataframe tbody tr th:only-of-type {\n",
       "        vertical-align: middle;\n",
       "    }\n",
       "\n",
       "    .dataframe tbody tr th {\n",
       "        vertical-align: top;\n",
       "    }\n",
       "\n",
       "    .dataframe thead th {\n",
       "        text-align: right;\n",
       "    }\n",
       "</style>\n",
       "<table border=\"1\" class=\"dataframe\">\n",
       "  <thead>\n",
       "    <tr style=\"text-align: right;\">\n",
       "      <th></th>\n",
       "      <th>MpTarRoSitko</th>\n",
       "      <th>SlTychyTolst</th>\n",
       "      <th>ZpKoszArKraj</th>\n",
       "      <th>MpNoSaczNadb</th>\n",
       "      <th>ZpSzczecPrze</th>\n",
       "      <th>MpKrakAlKras</th>\n",
       "      <th>PmGdaKacze02</th>\n",
       "      <th>SlWodzGalczy</th>\n",
       "      <th>SlRybniBorki</th>\n",
       "      <th>MzPlocMiReja</th>\n",
       "    </tr>\n",
       "  </thead>\n",
       "  <tbody>\n",
       "    <tr>\n",
       "      <th>5</th>\n",
       "      <td>286.547</td>\n",
       "      <td>43.7670</td>\n",
       "      <td>24.22100</td>\n",
       "      <td>430.315</td>\n",
       "      <td>20.25580</td>\n",
       "      <td>213.733</td>\n",
       "      <td>22.1</td>\n",
       "      <td>97.5863</td>\n",
       "      <td>56.9406</td>\n",
       "      <td>49.591231</td>\n",
       "    </tr>\n",
       "    <tr>\n",
       "      <th>6</th>\n",
       "      <td>277.584</td>\n",
       "      <td>36.3929</td>\n",
       "      <td>24.99190</td>\n",
       "      <td>289.301</td>\n",
       "      <td>17.49990</td>\n",
       "      <td>213.868</td>\n",
       "      <td>11.9</td>\n",
       "      <td>97.6305</td>\n",
       "      <td>60.6056</td>\n",
       "      <td>39.695604</td>\n",
       "    </tr>\n",
       "    <tr>\n",
       "      <th>7</th>\n",
       "      <td>294.011</td>\n",
       "      <td>38.9490</td>\n",
       "      <td>15.81570</td>\n",
       "      <td>251.635</td>\n",
       "      <td>8.88873</td>\n",
       "      <td>221.923</td>\n",
       "      <td>4.8</td>\n",
       "      <td>66.6252</td>\n",
       "      <td>54.7129</td>\n",
       "      <td>39.695604</td>\n",
       "    </tr>\n",
       "    <tr>\n",
       "      <th>8</th>\n",
       "      <td>234.649</td>\n",
       "      <td>39.6057</td>\n",
       "      <td>9.87341</td>\n",
       "      <td>235.258</td>\n",
       "      <td>7.46767</td>\n",
       "      <td>244.690</td>\n",
       "      <td>5.1</td>\n",
       "      <td>53.7598</td>\n",
       "      <td>47.2334</td>\n",
       "      <td>39.695604</td>\n",
       "    </tr>\n",
       "    <tr>\n",
       "      <th>9</th>\n",
       "      <td>196.482</td>\n",
       "      <td>37.7051</td>\n",
       "      <td>13.61860</td>\n",
       "      <td>189.809</td>\n",
       "      <td>8.14248</td>\n",
       "      <td>224.673</td>\n",
       "      <td>5.1</td>\n",
       "      <td>48.9480</td>\n",
       "      <td>42.1408</td>\n",
       "      <td>39.695604</td>\n",
       "    </tr>\n",
       "  </tbody>\n",
       "</table>\n",
       "</div>"
      ],
      "text/plain": [
       "   MpTarRoSitko  SlTychyTolst  ZpKoszArKraj  MpNoSaczNadb  ZpSzczecPrze  \\\n",
       "5       286.547       43.7670      24.22100       430.315      20.25580   \n",
       "6       277.584       36.3929      24.99190       289.301      17.49990   \n",
       "7       294.011       38.9490      15.81570       251.635       8.88873   \n",
       "8       234.649       39.6057       9.87341       235.258       7.46767   \n",
       "9       196.482       37.7051      13.61860       189.809       8.14248   \n",
       "\n",
       "   MpKrakAlKras  PmGdaKacze02  SlWodzGalczy  SlRybniBorki  MzPlocMiReja  \n",
       "5       213.733          22.1       97.5863       56.9406     49.591231  \n",
       "6       213.868          11.9       97.6305       60.6056     39.695604  \n",
       "7       221.923           4.8       66.6252       54.7129     39.695604  \n",
       "8       244.690           5.1       53.7598       47.2334     39.695604  \n",
       "9       224.673           5.1       48.9480       42.1408     39.695604  "
      ]
     },
     "execution_count": 8,
     "metadata": {},
     "output_type": "execute_result"
    }
   ],
   "source": [
    "best_stations_df = pd.DataFrame([pd.to_numeric(best_stations[station].str.replace(\",\",\".\")) for station in best_stations])\n",
    "best_stations_df = best_stations_df.transpose()\n",
    "best_stations_df.head()"
   ]
  },
  {
   "cell_type": "markdown",
   "metadata": {},
   "source": [
    "# Plotting"
   ]
  },
  {
   "cell_type": "code",
   "execution_count": 9,
   "metadata": {},
   "outputs": [
    {
     "data": {
      "image/png": "[encoded data removed]",
      "text/plain": [
       "<Figure size 864x576 with 1 Axes>"
      ]
     },
     "metadata": {
      "needs_background": "light"
     },
     "output_type": "display_data"
    }
   ],
   "source": [
    "for station in best_stations_df:\n",
    "    best_stations_df[station].plot(figsize=(12,8))"
   ]
  },
  {
   "cell_type": "code",
   "execution_count": 10,
   "metadata": {},
   "outputs": [
    {
     "data": {
      "text/plain": [
       "MpTarRoSitko     3\n",
       "SlTychyTolst    10\n",
       "ZpKoszArKraj    16\n",
       "MpNoSaczNadb    18\n",
       "ZpSzczecPrze    20\n",
       "MpKrakAlKras    21\n",
       "PmGdaKacze02    27\n",
       "SlWodzGalczy    30\n",
       "SlRybniBorki    35\n",
       "MzPlocMiReja    38\n",
       "dtype: int64"
      ]
     },
     "execution_count": 10,
     "metadata": {},
     "output_type": "execute_result"
    }
   ],
   "source": [
    "best_stations_df.isna().sum()"
   ]
  },
  {
   "cell_type": "markdown",
   "metadata": {},
   "source": [
    "# Handling missing values\n",
    "I take the simplest approach and take mean of two neighbours"
   ]
  },
  {
   "cell_type": "code",
   "execution_count": 11,
   "metadata": {},
   "outputs": [],
   "source": [
    "for i in best_stations_df['MpTarRoSitko'][best_stations_df['MpTarRoSitko'].isna()].index:\n",
    "    if not(np.isnan(best_stations_df['MpTarRoSitko'].loc[i-1]) or np.isnan(best_stations_df['MpTarRoSitko'].loc[i+1])):\n",
    "        best_stations_df['MpTarRoSitko'].loc[i] = (best_stations_df['MpTarRoSitko'].loc[i-1] + best_stations_df['MpTarRoSitko'].loc[i+1])/2"
   ]
  },
  {
   "cell_type": "code",
   "execution_count": 12,
   "metadata": {},
   "outputs": [
    {
     "data": {
      "text/plain": [
       "0"
      ]
     },
     "execution_count": 12,
     "metadata": {},
     "output_type": "execute_result"
    }
   ],
   "source": [
    "sum(best_stations_df['MpTarRoSitko'].isna())"
   ]
  },
  {
   "cell_type": "markdown",
   "metadata": {},
   "source": [
    "# Moving average"
   ]
  },
  {
   "cell_type": "code",
   "execution_count": 31,
   "metadata": {},
   "outputs": [
    {
     "data": {
      "text/plain": [
       "<matplotlib.axes._subplots.AxesSubplot at 0x7fa45cdab588>"
      ]
     },
     "execution_count": 31,
     "metadata": {},
     "output_type": "execute_result"
    },
    {
     "data": {
      "image/png": "[encoded data removed]",
      "text/plain": [
       "<Figure size 432x288 with 1 Axes>"
      ]
     },
     "metadata": {
      "needs_background": "light"
     },
     "output_type": "display_data"
    }
   ],
   "source": [
    "best_stations_df['MpTarRoSitko'].rolling(24, min_periods=1).mean().plot()"
   ]
  },
  {
   "cell_type": "code",
   "execution_count": 32,
   "metadata": {},
   "outputs": [
    {
     "data": {
      "text/plain": [
       "<matplotlib.axes._subplots.AxesSubplot at 0x7fa45d85a710>"
      ]
     },
     "execution_count": 32,
     "metadata": {},
     "output_type": "execute_result"
    },
    {
     "data": {
      "image/png": "[encoded data removed]",
      "text/plain": [
       "<Figure size 432x288 with 1 Axes>"
      ]
     },
     "metadata": {
      "needs_background": "light"
     },
     "output_type": "display_data"
    }
   ],
   "source": [
    "best_stations_df['MpTarRoSitko'].plot()"
   ]
  },
  {
   "cell_type": "code",
   "execution_count": 39,
   "metadata": {},
   "outputs": [
    {
     "name": "stdout",
     "output_type": "stream",
     "text": [
      "lenght =  8760\n",
      "no of na =  0\n"
     ]
    }
   ],
   "source": [
    "print('lenght = ',len(best_stations_df['MpTarRoSitko'].rolling(24, min_periods=1).mean()))\n",
    "print('no of na = ', best_stations_df['MpTarRoSitko'].rolling(24, min_periods=1).mean().isna().sum())"
   ]
  },
  {
   "cell_type": "markdown",
   "metadata": {},
   "source": [
    "# Average for each day"
   ]
  },
  {
   "cell_type": "code",
   "execution_count": 17,
   "metadata": {},
   "outputs": [
    {
     "data": {
      "text/plain": [
       "\"shape = (365, 24) type = <class 'numpy.ndarray'>\""
      ]
     },
     "execution_count": 17,
     "metadata": {},
     "output_type": "execute_result"
    }
   ],
   "source": [
    "best_station_arr = best_stations_df['MpTarRoSitko'].values.reshape(365,24)\n",
    "f'shape = {best_station_arr.shape} type = {type(best_station_arr)}'"
   ]
  },
  {
   "cell_type": "code",
   "execution_count": 18,
   "metadata": {},
   "outputs": [
    {
     "data": {
      "text/plain": [
       "[<matplotlib.lines.Line2D at 0x7fa45d731978>]"
      ]
     },
     "execution_count": 18,
     "metadata": {},
     "output_type": "execute_result"
    },
    {
     "data": {
      "image/png": "[encoded data removed]",
      "text/plain": [
       "<Figure size 432x288 with 1 Axes>"
      ]
     },
     "metadata": {
      "needs_background": "light"
     },
     "output_type": "display_data"
    }
   ],
   "source": [
    "daily_arr = np.mean(best_station_arr, axis=1)\n",
    "plt.plot(daily_arr)"
   ]
  },
  {
   "cell_type": "code",
   "execution_count": 19,
   "metadata": {},
   "outputs": [
    {
     "data": {
      "text/plain": [
       "365"
      ]
     },
     "execution_count": 19,
     "metadata": {},
     "output_type": "execute_result"
    }
   ],
   "source": [
    "len(daily_arr)"
   ]
  },
  {
   "cell_type": "code",
   "execution_count": null,
   "metadata": {},
   "outputs": [],
   "source": []
  }
 ],
 "metadata": {
  "kernelspec": {
   "display_name": "Python 3",
   "language": "python",
   "name": "python3"
  },
  "language_info": {
   "codemirror_mode": {
    "name": "ipython",
    "version": 3
   },
   "file_extension": ".py",
   "mimetype": "text/x-python",
   "name": "python",
   "nbconvert_exporter": "python",
   "pygments_lexer": "ipython3",
   "version": "3.7.1"
  }
 },
 "nbformat": 4,
 "nbformat_minor": 2
}
