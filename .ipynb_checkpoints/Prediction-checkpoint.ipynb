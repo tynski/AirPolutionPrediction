{
 "cells": [
  {
   "cell_type": "markdown",
   "metadata": {},
   "source": [
    "# Read data"
   ]
  },
  {
   "cell_type": "code",
   "execution_count": 1,
   "metadata": {},
   "outputs": [
    {
     "name": "stdout",
     "output_type": "stream",
     "text": [
      "<class 'pandas.core.frame.DataFrame'>\n",
      "RangeIndex: 43699 entries, 0 to 43698\n",
      "Data columns (total 2 columns):\n",
      "Unnamed: 0    43699 non-null object\n",
      " AlKras       43699 non-null float64\n",
      "dtypes: float64(1), object(1)\n",
      "memory usage: 682.9+ KB\n"
     ]
    }
   ],
   "source": [
    "import pandas as pd\n",
    "import numpy as np\n",
    "\n",
    "data = pd.read_csv(\"AvgAlKras.csv\")\n",
    "data.info()"
   ]
  },
  {
   "cell_type": "markdown",
   "metadata": {},
   "source": [
    "# Data split"
   ]
  },
  {
   "cell_type": "code",
   "execution_count": 2,
   "metadata": {},
   "outputs": [],
   "source": [
    "import math\n",
    "\n",
    "def split_data(data, frame_size, n_frames):\n",
    "    X, y = [], []\n",
    "    for i in range(len(data)):\n",
    "        # find the end of this pattern\n",
    "        end_ix = i + frame_size\n",
    "        # check if we are beyond the sequence\n",
    "        if end_ix > len(data)-1:\n",
    "            break\n",
    "        # gather input and output parts of the pattern\n",
    "        seq_x, seq_y = data[i:end_ix], data[end_ix]\n",
    "        X.append(seq_x)\n",
    "        y.append(seq_y)\n",
    "    return np.array(X), np.array(y)"
   ]
  },
  {
   "cell_type": "code",
   "execution_count": 3,
   "metadata": {},
   "outputs": [
    {
     "name": "stdout",
     "output_type": "stream",
     "text": [
      "Data type:  <class 'numpy.ndarray'>\n",
      "X shape: (43676, 23, 1) y shape: (43676,)\n"
     ]
    }
   ],
   "source": [
    "# \n",
    "frame_size = 23\n",
    "n_frames = math.floor(len(data) / frame_size)\n",
    "n_features = 1\n",
    "\n",
    "X, y = split_data(data.iloc[:,1].values, frame_size, n_frames)\n",
    "X = X.reshape(-1,frame_size,n_features)\n",
    "print('Data type: ', type(X))\n",
    "print('X shape:', X.shape, 'y shape:', y.shape)"
   ]
  },
  {
   "cell_type": "markdown",
   "metadata": {},
   "source": [
    "# Data split"
   ]
  },
  {
   "cell_type": "code",
   "execution_count": 4,
   "metadata": {},
   "outputs": [
    {
     "name": "stdout",
     "output_type": "stream",
     "text": [
      "False\n",
      "False\n",
      "False\n",
      "False\n",
      "False\n",
      "False\n"
     ]
    }
   ],
   "source": [
    "from sklearn.model_selection import train_test_split\n",
    "\n",
    "X_train, X_test, y_train, y_test = train_test_split(X, y, test_size=0.2, random_state=1)\n",
    "X_train, X_val, y_train, y_val = train_test_split(X_train, y_train, test_size=0.2, random_state=1)\n",
    "\n",
    "print(np.isnan(X_train).any())\n",
    "print(np.isnan(y_train).any())\n",
    "print(np.isnan(X_val).any())\n",
    "print(np.isnan(y_val).any())\n",
    "print(np.isnan(X_test).any())\n",
    "print(np.isnan(y_test).any())"
   ]
  },
  {
   "cell_type": "markdown",
   "metadata": {},
   "source": [
    "# LSTM"
   ]
  },
  {
   "cell_type": "code",
   "execution_count": 5,
   "metadata": {},
   "outputs": [
    {
     "name": "stderr",
     "output_type": "stream",
     "text": [
      "Using TensorFlow backend.\n"
     ]
    }
   ],
   "source": [
    "from tensorflow import keras\n",
    "from keras.models import Sequential\n",
    "from keras.layers import LSTM, Dense, Dropout, Flatten"
   ]
  },
  {
   "cell_type": "markdown",
   "metadata": {},
   "source": [
    "# Construct model"
   ]
  },
  {
   "cell_type": "code",
   "execution_count": 6,
   "metadata": {},
   "outputs": [
    {
     "name": "stdout",
     "output_type": "stream",
     "text": [
      "WARNING:tensorflow:From /home/sywi/Documents/vpd/lib/python3.7/site-packages/tensorflow/python/framework/op_def_library.py:263: colocate_with (from tensorflow.python.framework.ops) is deprecated and will be removed in a future version.\n",
      "Instructions for updating:\n",
      "Colocations handled automatically by placer.\n",
      "WARNING:tensorflow:From /home/sywi/Documents/vpd/lib/python3.7/site-packages/keras/backend/tensorflow_backend.py:3445: calling dropout (from tensorflow.python.ops.nn_ops) with keep_prob is deprecated and will be removed in a future version.\n",
      "Instructions for updating:\n",
      "Please use `rate` instead of `keep_prob`. Rate should be set to `rate = 1 - keep_prob`.\n",
      "_________________________________________________________________\n",
      "Layer (type)                 Output Shape              Param #   \n",
      "=================================================================\n",
      "lstm_1 (LSTM)                (None, 23, 40)            6720      \n",
      "_________________________________________________________________\n",
      "dropout_1 (Dropout)          (None, 23, 40)            0         \n",
      "_________________________________________________________________\n",
      "lstm_2 (LSTM)                (None, 40)                12960     \n",
      "_________________________________________________________________\n",
      "dropout_2 (Dropout)          (None, 40)                0         \n",
      "_________________________________________________________________\n",
      "dense_1 (Dense)              (None, 1)                 41        \n",
      "=================================================================\n",
      "Total params: 19,721\n",
      "Trainable params: 19,721\n",
      "Non-trainable params: 0\n",
      "_________________________________________________________________\n"
     ]
    }
   ],
   "source": [
    "model = Sequential()\n",
    "\n",
    "model.add(LSTM(40,activation=\"tanh\",return_sequences=True, input_shape=(frame_size, n_features)))\n",
    "model.add(Dropout(0.15))\n",
    "\n",
    "model.add(LSTM(40,activation=\"tanh\",return_sequences=False))\n",
    "model.add(Dropout(0.15))\n",
    "\n",
    "#model_daily.add(Dense(128,activation=\"relu\", input_shape=(train_x.shape[1],1)))\n",
    "#model_daily.add(Dropout(0.1))\n",
    "#model_daily.add(Dense(64,activation=\"relu\"))\n",
    "#model_daily.add(Dropout(0.1))\n",
    "#model_daily.add(Dense(32,activation=\"relu\"))\n",
    "#model_daily.add(Dropout(0.1))\n",
    "#model_daily.add(Flatten())\n",
    "\n",
    "#model_daily.add(Dense(16,activation=\"relu\"))\n",
    "#model_daily.add(Dropout(0.1))\n",
    "model.add(Dense(1))\n",
    "model.compile(optimizer=\"adam\",loss=\"mae\")\n",
    "\n",
    "model.summary()"
   ]
  },
  {
   "cell_type": "markdown",
   "metadata": {},
   "source": [
    "# Train model"
   ]
  },
  {
   "cell_type": "code",
   "execution_count": 7,
   "metadata": {},
   "outputs": [
    {
     "name": "stdout",
     "output_type": "stream",
     "text": [
      "WARNING:tensorflow:From /home/sywi/Documents/vpd/lib/python3.7/site-packages/tensorflow/python/ops/math_ops.py:3066: to_int32 (from tensorflow.python.ops.math_ops) is deprecated and will be removed in a future version.\n",
      "Instructions for updating:\n",
      "Use tf.cast instead.\n",
      "Train on 27952 samples, validate on 6988 samples\n",
      "Epoch 1/10\n",
      "27952/27952 [==============================] - 8s 291us/step - loss: 58.6556 - val_loss: 58.7887\n",
      "Epoch 2/10\n",
      "27952/27952 [==============================] - 6s 227us/step - loss: 58.2043 - val_loss: 58.2731\n",
      "Epoch 3/10\n",
      "27952/27952 [==============================] - 6s 222us/step - loss: 57.6625 - val_loss: 57.6430\n",
      "Epoch 4/10\n",
      "27952/27952 [==============================] - 6s 224us/step - loss: 57.0035 - val_loss: 56.9032\n",
      "Epoch 5/10\n",
      "27952/27952 [==============================] - 6s 223us/step - loss: 56.2566 - val_loss: 56.1868\n",
      "Epoch 6/10\n",
      "27952/27952 [==============================] - 6s 222us/step - loss: 55.5590 - val_loss: 55.5596\n",
      "Epoch 7/10\n",
      "27952/27952 [==============================] - 6s 221us/step - loss: 54.9428 - val_loss: 54.9563\n",
      "Epoch 8/10\n",
      "27952/27952 [==============================] - 6s 222us/step - loss: 54.3250 - val_loss: 54.3069\n",
      "Epoch 9/10\n",
      "27952/27952 [==============================] - 6s 224us/step - loss: 53.6554 - val_loss: 53.5985\n",
      "Epoch 10/10\n",
      "27952/27952 [==============================] - 6s 224us/step - loss: 52.9319 - val_loss: 52.8262\n"
     ]
    }
   ],
   "source": [
    "history = model.fit(x=X_train,y=y_train, batch_size=8740, epochs=100, validation_data=(X_val,y_val))"
   ]
  },
  {
   "cell_type": "code",
   "execution_count": 8,
   "metadata": {},
   "outputs": [
    {
     "data": {
      "text/plain": [
       "[<matplotlib.lines.Line2D at 0x7f603028fa90>]"
      ]
     },
     "execution_count": 8,
     "metadata": {},
     "output_type": "execute_result"
    }
   ],
   "source": [
    "import matplotlib.pyplot as plt\n",
    "\n",
    "plt.plot(history.history[\"loss\"])\n",
    "plt.plot(history.history[\"val_loss\"])"
   ]
  },
  {
   "cell_type": "markdown",
   "metadata": {},
   "source": [
    "# Test model"
   ]
  },
  {
   "cell_type": "code",
   "execution_count": 9,
   "metadata": {},
   "outputs": [],
   "source": [
    "predictions = model.predict(X_test)"
   ]
  },
  {
   "cell_type": "code",
   "execution_count": 14,
   "metadata": {},
   "outputs": [
    {
     "data": {
      "text/plain": [
       "<matplotlib.legend.Legend at 0x7f6014419b70>"
      ]
     },
     "execution_count": 14,
     "metadata": {},
     "output_type": "execute_result"
    },
    {
     "data": {
      "image/png": "[encoded data removed]",
      "text/plain": [
       "<Figure size 1440x216 with 1 Axes>"
      ]
     },
     "metadata": {
      "needs_background": "light"
     },
     "output_type": "display_data"
    }
   ],
   "source": [
    "limit = 168\n",
    "x = list(range(len(y_test[:limit])))\n",
    "plt.figure(figsize=(20,3))\n",
    "plt.scatter(x, y_test[:limit], label='test')\n",
    "plt.scatter(x, predictions[:limit], label='prediction')\n",
    "plt.legend()"
   ]
  }
 ],
 "metadata": {
  "kernelspec": {
   "display_name": "Python 3",
   "language": "python",
   "name": "python3"
  },
  "language_info": {
   "codemirror_mode": {
    "name": "ipython",
    "version": 3
   },
   "file_extension": ".py",
   "mimetype": "text/x-python",
   "name": "python",
   "nbconvert_exporter": "python",
   "pygments_lexer": "ipython3",
   "version": "3.7.1"
  }
 },
 "nbformat": 4,
 "nbformat_minor": 2
}
