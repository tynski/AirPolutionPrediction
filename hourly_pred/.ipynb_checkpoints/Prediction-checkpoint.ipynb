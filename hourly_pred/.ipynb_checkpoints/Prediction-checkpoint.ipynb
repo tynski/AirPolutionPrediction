{
 "cells": [
  {
   "cell_type": "markdown",
   "metadata": {},
   "source": [
    "# Read data"
   ]
  },
  {
   "cell_type": "code",
   "execution_count": 1,
   "metadata": {},
   "outputs": [
    {
     "name": "stdout",
     "output_type": "stream",
     "text": [
      "<class 'pandas.core.frame.DataFrame'>\n",
      "RangeIndex: 43819 entries, 0 to 43818\n",
      "Data columns (total 2 columns):\n",
      "Unnamed: 0    43819 non-null object\n",
      "AlKras        43819 non-null float64\n",
      "dtypes: float64(1), object(1)\n",
      "memory usage: 684.8+ KB\n"
     ]
    }
   ],
   "source": [
    "import pandas as pd\n",
    "import numpy as np\n",
    "\n",
    "data = pd.read_csv(\"AvgAlKras.csv\")\n",
    "data.info()"
   ]
  },
  {
   "cell_type": "markdown",
   "metadata": {},
   "source": [
    "# Data split"
   ]
  },
  {
   "cell_type": "code",
   "execution_count": 2,
   "metadata": {},
   "outputs": [],
   "source": [
    "import math\n",
    "\n",
    "def split_data(data, frame_size, n_frames):\n",
    "    X, y = [], []\n",
    "    for i in range(len(data)):\n",
    "        # find the end of this pattern\n",
    "        end_ix = i + frame_size\n",
    "        # check if we are beyond the sequence\n",
    "        if end_ix > len(data)-1:\n",
    "            break\n",
    "        # gather input and output parts of the pattern\n",
    "        seq_x, seq_y = data[i:end_ix], data[end_ix]\n",
    "        X.append(seq_x)\n",
    "        y.append(seq_y)\n",
    "    return np.array(X), np.array(y)"
   ]
  },
  {
   "cell_type": "code",
   "execution_count": 3,
   "metadata": {},
   "outputs": [
    {
     "name": "stdout",
     "output_type": "stream",
     "text": [
      "Data type:  <class 'numpy.ndarray'>\n",
      "X shape: (43795, 24, 1) y shape: (43795,)\n"
     ]
    }
   ],
   "source": [
    "# \n",
    "frame_size = 24\n",
    "n_frames = math.floor(len(data) / frame_size)\n",
    "n_features = 1\n",
    "\n",
    "X, y = split_data(data.iloc[:,1].values, frame_size, n_frames)\n",
    "X = X.reshape(-1,frame_size,n_features)\n",
    "print('Data type: ', type(X))\n",
    "print('X shape:', X.shape, 'y shape:', y.shape)"
   ]
  },
  {
   "cell_type": "markdown",
   "metadata": {},
   "source": [
    "# Data split"
   ]
  },
  {
   "cell_type": "code",
   "execution_count": 4,
   "metadata": {},
   "outputs": [
    {
     "name": "stdout",
     "output_type": "stream",
     "text": [
      "False\n",
      "False\n",
      "False\n",
      "False\n",
      "False\n",
      "False\n"
     ]
    }
   ],
   "source": [
    "from sklearn.model_selection import train_test_split\n",
    "\n",
    "X_train, X_test, y_train, y_test = train_test_split(X, y, test_size=0.2, random_state=1)\n",
    "X_train, X_val, y_train, y_val = train_test_split(X_train, y_train, test_size=0.2, random_state=1)\n",
    "\n",
    "print(np.isnan(X_train).any())\n",
    "print(np.isnan(y_train).any())\n",
    "print(np.isnan(X_val).any())\n",
    "print(np.isnan(y_val).any())\n",
    "print(np.isnan(X_test).any())\n",
    "print(np.isnan(y_test).any())"
   ]
  },
  {
   "cell_type": "markdown",
   "metadata": {},
   "source": [
    "# LSTM"
   ]
  },
  {
   "cell_type": "code",
   "execution_count": 5,
   "metadata": {},
   "outputs": [
    {
     "name": "stderr",
     "output_type": "stream",
     "text": [
      "Using TensorFlow backend.\n"
     ]
    }
   ],
   "source": [
    "from tensorflow import keras\n",
    "from keras import optimizers\n",
    "from keras.models import Sequential\n",
    "from keras.layers import LSTM, Dense, Dropout, Flatten"
   ]
  },
  {
   "cell_type": "markdown",
   "metadata": {},
   "source": [
    "# Construct model"
   ]
  },
  {
   "cell_type": "code",
   "execution_count": 18,
   "metadata": {},
   "outputs": [
    {
     "name": "stdout",
     "output_type": "stream",
     "text": [
      "_________________________________________________________________\n",
      "Layer (type)                 Output Shape              Param #   \n",
      "=================================================================\n",
      "lstm_3 (LSTM)                (None, 24, 20)            1760      \n",
      "_________________________________________________________________\n",
      "lstm_4 (LSTM)                (None, 20)                3280      \n",
      "_________________________________________________________________\n",
      "dense_2 (Dense)              (None, 1)                 21        \n",
      "=================================================================\n",
      "Total params: 5,061\n",
      "Trainable params: 5,061\n",
      "Non-trainable params: 0\n",
      "_________________________________________________________________\n"
     ]
    }
   ],
   "source": [
    "model = Sequential()\n",
    "\n",
    "model.add(LSTM(20,activation='relu',return_sequences=True, input_shape=(frame_size, n_features)))\n",
    "#model.add(Dropout(0.15))\n",
    "\n",
    "model.add(LSTM(20,activation='relu',return_sequences=False))\n",
    "#model.add(Dropout(0.15))\n",
    "\n",
    "model.add(Dense(1))\n",
    "\n",
    "rmsprop = optimizers.RMSprop(lr=0.001, rho=0.9, epsilon=None, decay=0.99)\n",
    "adagrad = optimizers.Adagrad(lr=0.01, epsilon=1e-6, decay=0.99)\n",
    "adam = optimizers.Adam(lr=0.01, beta_1=0.9, beta_2=0.999, epsilon=1e-8, decay=0.0, amsgrad=False)\n",
    "sgd = optimizers.SGD(lr=0.01, momentum=0.0, decay=0.9, nesterov=True)\n",
    "\n",
    "model.compile(optimizer=adam, loss=\"mse\", metrics=None)\n",
    "\n",
    "model.summary()"
   ]
  },
  {
   "cell_type": "markdown",
   "metadata": {},
   "source": [
    "# Train model"
   ]
  },
  {
   "cell_type": "code",
   "execution_count": 19,
   "metadata": {},
   "outputs": [
    {
     "name": "stdout",
     "output_type": "stream",
     "text": [
      "Train on 28028 samples, validate on 7008 samples\n",
      "Epoch 1/5\n",
      "28028/28028 [==============================] - 23s 819us/step - loss: 478.5940 - val_loss: 89.4955\n",
      "Epoch 2/5\n",
      "28028/28028 [==============================] - 23s 808us/step - loss: 47.4975 - val_loss: 29.6792\n",
      "Epoch 3/5\n",
      "28028/28028 [==============================] - 22s 783us/step - loss: 21.8315 - val_loss: 15.4114\n",
      "Epoch 4/5\n",
      "28028/28028 [==============================] - 22s 777us/step - loss: 11.0557 - val_loss: 8.3780\n",
      "Epoch 5/5\n",
      "28028/28028 [==============================] - 23s 806us/step - loss: 11.0609 - val_loss: 8.9312\n"
     ]
    }
   ],
   "source": [
    "history = model.fit(x=X_train,y=y_train, batch_size=None, epochs=5, validation_data=(X_val,y_val))"
   ]
  },
  {
   "cell_type": "code",
   "execution_count": 20,
   "metadata": {},
   "outputs": [
    {
     "data": {
      "text/plain": [
       "Text(0, 0.5, 'loss')"
      ]
     },
     "execution_count": 20,
     "metadata": {},
     "output_type": "execute_result"
    },
    {
     "data": {
      "image/png": "[encoded data removed]",
      "text/plain": [
       "<Figure size 720x432 with 1 Axes>"
      ]
     },
     "metadata": {
      "needs_background": "light"
     },
     "output_type": "display_data"
    }
   ],
   "source": [
    "import matplotlib.pyplot as plt\n",
    "%matplotlib inline\n",
    "\n",
    "fig = plt.figure(figsize=(10,6))\n",
    "\n",
    "plt.plot(history.history[\"loss\"], label='train loss', color='darkmagenta')\n",
    "plt.plot(history.history[\"val_loss\"], label='val loss', color='red')\n",
    "plt.legend(fontsize='x-large')\n",
    "plt.xlabel('epoch', fontsize=14)\n",
    "plt.ylabel('loss', fontsize=14)"
   ]
  },
  {
   "cell_type": "markdown",
   "metadata": {},
   "source": [
    "# Test model"
   ]
  },
  {
   "cell_type": "code",
   "execution_count": 21,
   "metadata": {},
   "outputs": [],
   "source": [
    "predictions = model.predict(X_test)"
   ]
  },
  {
   "cell_type": "code",
   "execution_count": 22,
   "metadata": {},
   "outputs": [
    {
     "data": {
      "text/plain": [
       "<matplotlib.legend.Legend at 0x7ffa90cddf28>"
      ]
     },
     "execution_count": 22,
     "metadata": {},
     "output_type": "execute_result"
    },
    {
     "data": {
      "image/png": "[encoded data removed]",
      "text/plain": [
       "<Figure size 1440x216 with 1 Axes>"
      ]
     },
     "metadata": {
      "needs_background": "light"
     },
     "output_type": "display_data"
    }
   ],
   "source": [
    "limit = 168\n",
    "x = list(range(len(y_test[:limit])))\n",
    "plt.figure(figsize=(20,3))\n",
    "plt.scatter(x, y_test[:limit], label='test', color='darkmagenta', alpha=0.5)\n",
    "plt.scatter(x, predictions[:limit], label='prediction', color='red', alpha=0.5)\n",
    "plt.ylabel('value', fontsize=14)\n",
    "plt.xlabel('sample', fontsize=14)\n",
    "plt.legend(fontsize='x-large')"
   ]
  },
  {
   "cell_type": "code",
   "execution_count": 23,
   "metadata": {},
   "outputs": [],
   "source": [
    "from sklearn.metrics import r2_score"
   ]
  },
  {
   "cell_type": "code",
   "execution_count": 24,
   "metadata": {},
   "outputs": [
    {
     "data": {
      "text/plain": [
       "0.9942913080573557"
      ]
     },
     "execution_count": 24,
     "metadata": {},
     "output_type": "execute_result"
    }
   ],
   "source": [
    "r2_score(y_test[:limit], predictions[:limit])"
   ]
  },
  {
   "cell_type": "code",
   "execution_count": null,
   "metadata": {},
   "outputs": [],
   "source": [
    "from keras.models import load_model\n",
    "\n",
    "model.save('my_model.h5')  # creates a HDF5 file 'my_model.h5'\n",
    "del model  # deletes the existing model\n",
    "\n",
    "#model = load_model('my_model.h5')"
   ]
  }
 ],
 "metadata": {
  "kernelspec": {
   "display_name": "Python 3",
   "language": "python",
   "name": "python3"
  },
  "language_info": {
   "codemirror_mode": {
    "name": "ipython",
    "version": 3
   },
   "file_extension": ".py",
   "mimetype": "text/x-python",
   "name": "python",
   "nbconvert_exporter": "python",
   "pygments_lexer": "ipython3",
   "version": "3.7.1"
  }
 },
 "nbformat": 4,
 "nbformat_minor": 2
}
