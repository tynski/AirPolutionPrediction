{
 "cells": [
  {
   "cell_type": "markdown",
   "metadata": {},
   "source": [
    "# Read data"
   ]
  },
  {
   "cell_type": "code",
   "execution_count": 1,
   "metadata": {},
   "outputs": [
    {
     "name": "stdout",
     "output_type": "stream",
     "text": [
      "<class 'pandas.core.frame.DataFrame'>\n",
      "RangeIndex: 43819 entries, 0 to 43818\n",
      "Data columns (total 2 columns):\n",
      "Unnamed: 0    43819 non-null object\n",
      "AlKras        43819 non-null float64\n",
      "dtypes: float64(1), object(1)\n",
      "memory usage: 684.8+ KB\n"
     ]
    }
   ],
   "source": [
    "import pandas as pd\n",
    "import numpy as np\n",
    "\n",
    "data = pd.read_csv(\"AvgAlKras.csv\")\n",
    "data.info()"
   ]
  },
  {
   "cell_type": "markdown",
   "metadata": {},
   "source": [
    "# Data split"
   ]
  },
  {
   "cell_type": "code",
   "execution_count": 2,
   "metadata": {},
   "outputs": [],
   "source": [
    "import math\n",
    "\n",
    "def split_data(data, frame_size, n_frames):\n",
    "    X, y = [], []\n",
    "    for i in range(len(data)):\n",
    "        # find the end of this pattern\n",
    "        end_ix = i + frame_size\n",
    "        # check if we are beyond the sequence\n",
    "        if end_ix > len(data)-1:\n",
    "            break\n",
    "        # gather input and output parts of the pattern\n",
    "        seq_x, seq_y = data[i:end_ix], data[end_ix]\n",
    "        X.append(seq_x)\n",
    "        y.append(seq_y)\n",
    "    return np.array(X), np.array(y)"
   ]
  },
  {
   "cell_type": "code",
   "execution_count": 3,
   "metadata": {},
   "outputs": [
    {
     "name": "stdout",
     "output_type": "stream",
     "text": [
      "Data type:  <class 'numpy.ndarray'>\n",
      "X shape: (43795, 24, 1) y shape: (43795,)\n"
     ]
    }
   ],
   "source": [
    "# \n",
    "frame_size = 24\n",
    "n_frames = math.floor(len(data) / frame_size)\n",
    "n_features = 1\n",
    "\n",
    "X, y = split_data(data.iloc[:,1].values, frame_size, n_frames)\n",
    "X = X.reshape(-1,frame_size,n_features)\n",
    "print('Data type: ', type(X))\n",
    "print('X shape:', X.shape, 'y shape:', y.shape)"
   ]
  },
  {
   "cell_type": "markdown",
   "metadata": {},
   "source": [
    "# Data split"
   ]
  },
  {
   "cell_type": "code",
   "execution_count": 4,
   "metadata": {},
   "outputs": [
    {
     "name": "stdout",
     "output_type": "stream",
     "text": [
      "False\n",
      "False\n",
      "False\n",
      "False\n",
      "False\n",
      "False\n"
     ]
    }
   ],
   "source": [
    "from sklearn.model_selection import train_test_split\n",
    "\n",
    "X_train, X_test, y_train, y_test = train_test_split(X, y, test_size=0.2, random_state=1)\n",
    "X_train, X_val, y_train, y_val = train_test_split(X_train, y_train, test_size=0.2, random_state=1)\n",
    "\n",
    "print(np.isnan(X_train).any())\n",
    "print(np.isnan(y_train).any())\n",
    "print(np.isnan(X_val).any())\n",
    "print(np.isnan(y_val).any())\n",
    "print(np.isnan(X_test).any())\n",
    "print(np.isnan(y_test).any())"
   ]
  },
  {
   "cell_type": "markdown",
   "metadata": {},
   "source": [
    "# LSTM"
   ]
  },
  {
   "cell_type": "code",
   "execution_count": 10,
   "metadata": {},
   "outputs": [],
   "source": [
    "from tensorflow import keras\n",
    "from keras import optimizers\n",
    "from keras.models import Sequential\n",
    "from keras.layers import LSTM, Dense, Dropout, Flatten"
   ]
  },
  {
   "cell_type": "markdown",
   "metadata": {},
   "source": [
    "# Construct model"
   ]
  },
  {
   "cell_type": "code",
   "execution_count": 11,
   "metadata": {},
   "outputs": [
    {
     "name": "stdout",
     "output_type": "stream",
     "text": [
      "WARNING:tensorflow:From /home/sywi/Documents/vpd/lib/python3.7/site-packages/tensorflow/python/framework/op_def_library.py:263: colocate_with (from tensorflow.python.framework.ops) is deprecated and will be removed in a future version.\n",
      "Instructions for updating:\n",
      "Colocations handled automatically by placer.\n",
      "WARNING:tensorflow:From /home/sywi/Documents/vpd/lib/python3.7/site-packages/keras/backend/tensorflow_backend.py:3445: calling dropout (from tensorflow.python.ops.nn_ops) with keep_prob is deprecated and will be removed in a future version.\n",
      "Instructions for updating:\n",
      "Please use `rate` instead of `keep_prob`. Rate should be set to `rate = 1 - keep_prob`.\n",
      "_________________________________________________________________\n",
      "Layer (type)                 Output Shape              Param #   \n",
      "=================================================================\n",
      "lstm_1 (LSTM)                (None, 24, 50)            10400     \n",
      "_________________________________________________________________\n",
      "dropout_1 (Dropout)          (None, 24, 50)            0         \n",
      "_________________________________________________________________\n",
      "lstm_2 (LSTM)                (None, 50)                20200     \n",
      "_________________________________________________________________\n",
      "dropout_2 (Dropout)          (None, 50)                0         \n",
      "_________________________________________________________________\n",
      "dense_1 (Dense)              (None, 1)                 51        \n",
      "=================================================================\n",
      "Total params: 30,651\n",
      "Trainable params: 30,651\n",
      "Non-trainable params: 0\n",
      "_________________________________________________________________\n"
     ]
    }
   ],
   "source": [
    "model = Sequential()\n",
    "\n",
    "model.add(LSTM(50,activation='relu',return_sequences=True, input_shape=(frame_size, n_features)))\n",
    "model.add(Dropout(0.15))\n",
    "\n",
    "model.add(LSTM(50,activation='relu',return_sequences=False))\n",
    "model.add(Dropout(0.15))\n",
    "\n",
    "model.add(Dense(1))\n",
    "\n",
    "rmsprop = optimizers.RMSprop(lr=0.001, rho=0.9, epsilon=None, decay=0.0)\n",
    "adamax = optimizers.Adamax(lr=0.004, beta_1=0.9, beta_2=0.999, epsilon=None, decay=0.0)\n",
    "adagrad = optimizers.Adagrad(lr=0.01, epsilon=None, decay=0.0)\n",
    "model.compile(optimizer=\"adam\",loss=\"mse\")\n",
    "\n",
    "model.summary()"
   ]
  },
  {
   "cell_type": "markdown",
   "metadata": {},
   "source": [
    "# Train model"
   ]
  },
  {
   "cell_type": "code",
   "execution_count": 12,
   "metadata": {},
   "outputs": [
    {
     "name": "stdout",
     "output_type": "stream",
     "text": [
      "WARNING:tensorflow:From /home/sywi/Documents/vpd/lib/python3.7/site-packages/tensorflow/python/ops/math_ops.py:3066: to_int32 (from tensorflow.python.ops.math_ops) is deprecated and will be removed in a future version.\n",
      "Instructions for updating:\n",
      "Use tf.cast instead.\n",
      "Train on 28028 samples, validate on 7008 samples\n",
      "Epoch 1/20\n",
      "28028/28028 [==============================] - 26s 945us/step - loss: 1046.7233 - val_loss: 31.4056\n",
      "Epoch 2/20\n",
      "28028/28028 [==============================] - 24s 868us/step - loss: 546.9940 - val_loss: 123.3749\n",
      "Epoch 3/20\n",
      "28028/28028 [==============================] - 25s 896us/step - loss: 250.5739 - val_loss: 302.8807\n",
      "Epoch 4/20\n",
      "28028/28028 [==============================] - 25s 882us/step - loss: 188.4645 - val_loss: 263.5536\n",
      "Epoch 5/20\n",
      "28028/28028 [==============================] - 25s 908us/step - loss: 185.5037 - val_loss: 122.2247\n",
      "Epoch 6/20\n",
      "28028/28028 [==============================] - 24s 862us/step - loss: 154.8160 - val_loss: 202.0534\n",
      "Epoch 7/20\n",
      "28028/28028 [==============================] - 26s 923us/step - loss: 136.8694 - val_loss: 87.7133\n",
      "Epoch 8/20\n",
      "28028/28028 [==============================] - 28s 1ms/step - loss: 122.2979 - val_loss: 129.4301\n",
      "Epoch 9/20\n",
      "28028/28028 [==============================] - 23s 815us/step - loss: 111.1369 - val_loss: 63.4301\n",
      "Epoch 10/20\n",
      "28028/28028 [==============================] - 25s 894us/step - loss: 103.9854 - val_loss: 77.1690\n",
      "Epoch 11/20\n",
      "28028/28028 [==============================] - 24s 868us/step - loss: 95.6439 - val_loss: 173.3650\n",
      "Epoch 12/20\n",
      "28028/28028 [==============================] - 22s 787us/step - loss: 87.2482 - val_loss: 175.4334\n",
      "Epoch 13/20\n",
      "28028/28028 [==============================] - 22s 775us/step - loss: 80.4018 - val_loss: 104.6473\n",
      "Epoch 14/20\n",
      "28028/28028 [==============================] - 22s 786us/step - loss: 77.0606 - val_loss: 131.5380\n",
      "Epoch 15/20\n",
      "28028/28028 [==============================] - 23s 832us/step - loss: 147.7398 - val_loss: 76.1464\n",
      "Epoch 16/20\n",
      "28028/28028 [==============================] - 27s 947us/step - loss: 116.9803 - val_loss: 284.8734\n",
      "Epoch 17/20\n",
      "28028/28028 [==============================] - 25s 909us/step - loss: 102.0986 - val_loss: 82.5502\n",
      "Epoch 18/20\n",
      "28028/28028 [==============================] - 23s 812us/step - loss: 95.4204 - val_loss: 154.5414\n",
      "Epoch 19/20\n",
      "28028/28028 [==============================] - 26s 912us/step - loss: 89.5891 - val_loss: 92.5939\n",
      "Epoch 20/20\n",
      "28028/28028 [==============================] - 26s 923us/step - loss: 86.7382 - val_loss: 134.3957\n"
     ]
    }
   ],
   "source": [
    "history = model.fit(x=X_train,y=y_train, batch_size=None, epochs=20, validation_data=(X_val,y_val))"
   ]
  },
  {
   "cell_type": "code",
   "execution_count": 13,
   "metadata": {},
   "outputs": [],
   "source": [
    "from keras.models import load_model\n",
    "\n",
    "model.save('my_model.h5')  # creates a HDF5 file 'my_model.h5'"
   ]
  },
  {
   "cell_type": "code",
   "execution_count": null,
   "metadata": {},
   "outputs": [],
   "source": [
    "del model  # deletes the existing model"
   ]
  },
  {
   "cell_type": "code",
   "execution_count": 14,
   "metadata": {},
   "outputs": [],
   "source": [
    "model = load_model('my_model.h5')"
   ]
  },
  {
   "cell_type": "code",
   "execution_count": 30,
   "metadata": {},
   "outputs": [
    {
     "data": {
      "image/png": "[encoded data removed]",
      "text/plain": [
       "<Figure size 720x432 with 1 Axes>"
      ]
     },
     "metadata": {
      "needs_background": "light"
     },
     "output_type": "display_data"
    }
   ],
   "source": [
    "import matplotlib.pyplot as plt\n",
    "\n",
    "fig = plt.figure(figsize=(10,6))\n",
    "\n",
    "plt.plot(history.history[\"loss\"], label='train loss', color='darkmagenta')\n",
    "plt.plot(history.history[\"val_loss\"], label='val loss', color='red')\n",
    "plt.legend(fontsize='x-large')\n",
    "plt.xlabel('epoch', fontsize=14)\n",
    "plt.ylabel('loss', fontsize=14)\n",
    "plt.show()"
   ]
  },
  {
   "cell_type": "markdown",
   "metadata": {},
   "source": [
    "# Test model"
   ]
  },
  {
   "cell_type": "code",
   "execution_count": 17,
   "metadata": {},
   "outputs": [],
   "source": [
    "predictions = model.predict(X_test)"
   ]
  },
  {
   "cell_type": "code",
   "execution_count": 33,
   "metadata": {},
   "outputs": [
    {
     "data": {
      "text/plain": [
       "<matplotlib.legend.Legend at 0x7f559318ab38>"
      ]
     },
     "execution_count": 33,
     "metadata": {},
     "output_type": "execute_result"
    },
    {
     "data": {
      "image/png": "[encoded data removed]",
      "text/plain": [
       "<Figure size 1440x216 with 1 Axes>"
      ]
     },
     "metadata": {
      "needs_background": "light"
     },
     "output_type": "display_data"
    }
   ],
   "source": [
    "limit = 168\n",
    "x = list(range(len(y_test[:limit])))\n",
    "plt.figure(figsize=(20,3))\n",
    "plt.scatter(x, y_test[:limit], label='test', color='darkmagenta', alpha=0.5)\n",
    "plt.scatter(x, predictions[:limit], label='prediction', color='red', alpha=0.5)\n",
    "plt.ylabel('value', fontsize=14)\n",
    "plt.xlabel('sample', fontsize=14)\n",
    "plt.legend(fontsize='x-large')"
   ]
  },
  {
   "cell_type": "code",
   "execution_count": 19,
   "metadata": {},
   "outputs": [],
   "source": [
    "from sklearn.metrics import r2_score"
   ]
  },
  {
   "cell_type": "code",
   "execution_count": 20,
   "metadata": {},
   "outputs": [
    {
     "data": {
      "text/plain": [
       "0.8662249428311424"
      ]
     },
     "execution_count": 20,
     "metadata": {},
     "output_type": "execute_result"
    }
   ],
   "source": [
    "r2_score(y_test[:limit], predictions[:limit])"
   ]
  },
  {
   "cell_type": "code",
   "execution_count": null,
   "metadata": {},
   "outputs": [],
   "source": []
  }
 ],
 "metadata": {
  "kernelspec": {
   "display_name": "Python 3",
   "language": "python",
   "name": "python3"
  },
  "language_info": {
   "codemirror_mode": {
    "name": "ipython",
    "version": 3
   },
   "file_extension": ".py",
   "mimetype": "text/x-python",
   "name": "python",
   "nbconvert_exporter": "python",
   "pygments_lexer": "ipython3",
   "version": "3.7.1"
  }
 },
 "nbformat": 4,
 "nbformat_minor": 2
}
