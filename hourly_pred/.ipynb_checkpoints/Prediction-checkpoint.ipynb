{
 "cells": [
  {
   "cell_type": "markdown",
   "metadata": {},
   "source": [
    "# Read data"
   ]
  },
  {
   "cell_type": "code",
   "execution_count": 1,
   "metadata": {},
   "outputs": [
    {
     "name": "stdout",
     "output_type": "stream",
     "text": [
      "<class 'pandas.core.frame.DataFrame'>\n",
      "RangeIndex: 43819 entries, 0 to 43818\n",
      "Data columns (total 2 columns):\n",
      "Unnamed: 0    43819 non-null object\n",
      "AlKras        43819 non-null float64\n",
      "dtypes: float64(1), object(1)\n",
      "memory usage: 684.8+ KB\n"
     ]
    }
   ],
   "source": [
    "import pandas as pd\n",
    "import numpy as np\n",
    "\n",
    "data = pd.read_csv(\"AvgAlKras.csv\")\n",
    "data.info()"
   ]
  },
  {
   "cell_type": "markdown",
   "metadata": {},
   "source": [
    "# Data split"
   ]
  },
  {
   "cell_type": "code",
   "execution_count": 2,
   "metadata": {},
   "outputs": [],
   "source": [
    "import math\n",
    "\n",
    "def split_data(data, frame_size, n_frames):\n",
    "    X, y = [], []\n",
    "    for i in range(len(data)):\n",
    "        # find the end of this pattern\n",
    "        end_ix = i + frame_size\n",
    "        # check if we are beyond the sequence\n",
    "        if end_ix > len(data)-1:\n",
    "            break\n",
    "        # gather input and output parts of the pattern\n",
    "        seq_x, seq_y = data[i:end_ix], data[end_ix]\n",
    "        X.append(seq_x)\n",
    "        y.append(seq_y)\n",
    "    return np.array(X), np.array(y)"
   ]
  },
  {
   "cell_type": "code",
   "execution_count": 3,
   "metadata": {},
   "outputs": [
    {
     "name": "stdout",
     "output_type": "stream",
     "text": [
      "Data type:  <class 'numpy.ndarray'>\n",
      "X shape: (43796, 23, 1) y shape: (43796,)\n"
     ]
    }
   ],
   "source": [
    "# \n",
    "frame_size = 23\n",
    "n_frames = math.floor(len(data) / frame_size)\n",
    "n_features = 1\n",
    "\n",
    "X, y = split_data(data.iloc[:,1].values, frame_size, n_frames)\n",
    "X = X.reshape(-1,frame_size,n_features)\n",
    "print('Data type: ', type(X))\n",
    "print('X shape:', X.shape, 'y shape:', y.shape)"
   ]
  },
  {
   "cell_type": "markdown",
   "metadata": {},
   "source": [
    "# Data split"
   ]
  },
  {
   "cell_type": "code",
   "execution_count": 4,
   "metadata": {},
   "outputs": [
    {
     "name": "stdout",
     "output_type": "stream",
     "text": [
      "False\n",
      "False\n",
      "False\n",
      "False\n",
      "False\n",
      "False\n"
     ]
    }
   ],
   "source": [
    "from sklearn.model_selection import train_test_split\n",
    "\n",
    "X_train, X_test, y_train, y_test = train_test_split(X, y, test_size=0.2, random_state=1)\n",
    "X_train, X_val, y_train, y_val = train_test_split(X_train, y_train, test_size=0.2, random_state=1)\n",
    "\n",
    "print(np.isnan(X_train).any())\n",
    "print(np.isnan(y_train).any())\n",
    "print(np.isnan(X_val).any())\n",
    "print(np.isnan(y_val).any())\n",
    "print(np.isnan(X_test).any())\n",
    "print(np.isnan(y_test).any())"
   ]
  },
  {
   "cell_type": "markdown",
   "metadata": {},
   "source": [
    "# LSTM"
   ]
  },
  {
   "cell_type": "code",
   "execution_count": 5,
   "metadata": {},
   "outputs": [
    {
     "name": "stderr",
     "output_type": "stream",
     "text": [
      "Using TensorFlow backend.\n"
     ]
    }
   ],
   "source": [
    "from tensorflow import keras\n",
    "from keras.models import Sequential\n",
    "from keras.layers import LSTM, Dense, Dropout, Flatten"
   ]
  },
  {
   "cell_type": "markdown",
   "metadata": {},
   "source": [
    "# Construct model"
   ]
  },
  {
   "cell_type": "code",
   "execution_count": 6,
   "metadata": {},
   "outputs": [
    {
     "name": "stdout",
     "output_type": "stream",
     "text": [
      "WARNING:tensorflow:From /home/sywi/Documents/vpd/lib/python3.7/site-packages/tensorflow/python/framework/op_def_library.py:263: colocate_with (from tensorflow.python.framework.ops) is deprecated and will be removed in a future version.\n",
      "Instructions for updating:\n",
      "Colocations handled automatically by placer.\n",
      "WARNING:tensorflow:From /home/sywi/Documents/vpd/lib/python3.7/site-packages/keras/backend/tensorflow_backend.py:3445: calling dropout (from tensorflow.python.ops.nn_ops) with keep_prob is deprecated and will be removed in a future version.\n",
      "Instructions for updating:\n",
      "Please use `rate` instead of `keep_prob`. Rate should be set to `rate = 1 - keep_prob`.\n",
      "_________________________________________________________________\n",
      "Layer (type)                 Output Shape              Param #   \n",
      "=================================================================\n",
      "lstm_1 (LSTM)                (None, 23, 50)            10400     \n",
      "_________________________________________________________________\n",
      "dropout_1 (Dropout)          (None, 23, 50)            0         \n",
      "_________________________________________________________________\n",
      "lstm_2 (LSTM)                (None, 50)                20200     \n",
      "_________________________________________________________________\n",
      "dropout_2 (Dropout)          (None, 50)                0         \n",
      "_________________________________________________________________\n",
      "dense_1 (Dense)              (None, 1)                 51        \n",
      "=================================================================\n",
      "Total params: 30,651\n",
      "Trainable params: 30,651\n",
      "Non-trainable params: 0\n",
      "_________________________________________________________________\n"
     ]
    }
   ],
   "source": [
    "model = Sequential()\n",
    "\n",
    "model.add(LSTM(50,activation='relu',return_sequences=True, input_shape=(frame_size, n_features)))\n",
    "model.add(Dropout(0.15))\n",
    "\n",
    "model.add(LSTM(50,activation='relu',return_sequences=False))\n",
    "model.add(Dropout(0.15))\n",
    "\n",
    "model.add(Dense(1))\n",
    "model.compile(optimizer=\"adam\",loss=\"mse\")\n",
    "\n",
    "model.summary()"
   ]
  },
  {
   "cell_type": "markdown",
   "metadata": {},
   "source": [
    "# Train model"
   ]
  },
  {
   "cell_type": "code",
   "execution_count": 7,
   "metadata": {},
   "outputs": [
    {
     "name": "stdout",
     "output_type": "stream",
     "text": [
      "WARNING:tensorflow:From /home/sywi/Documents/vpd/lib/python3.7/site-packages/tensorflow/python/ops/math_ops.py:3066: to_int32 (from tensorflow.python.ops.math_ops) is deprecated and will be removed in a future version.\n",
      "Instructions for updating:\n",
      "Use tf.cast instead.\n",
      "Train on 28028 samples, validate on 7008 samples\n",
      "Epoch 1/100\n",
      "28028/28028 [==============================] - 11s 384us/step - loss: 2403.4619 - val_loss: 8586.8672\n",
      "Epoch 2/100\n",
      "28028/28028 [==============================] - 9s 324us/step - loss: 1790.3936 - val_loss: 2964.7659\n",
      "Epoch 3/100\n",
      "28028/28028 [==============================] - 9s 312us/step - loss: 874.9696 - val_loss: 212.2525\n",
      "Epoch 4/100\n",
      "28028/28028 [==============================] - 9s 314us/step - loss: 578.0412 - val_loss: 97.5762\n",
      "Epoch 5/100\n",
      "28028/28028 [==============================] - 9s 313us/step - loss: 482.0015 - val_loss: 145.0757\n",
      "Epoch 6/100\n",
      "28028/28028 [==============================] - 9s 311us/step - loss: 427.8975 - val_loss: 175.4114\n",
      "Epoch 7/100\n",
      "28028/28028 [==============================] - 9s 312us/step - loss: 428.0835 - val_loss: 185.5123\n",
      "Epoch 8/100\n",
      "28028/28028 [==============================] - 9s 311us/step - loss: 379.3551 - val_loss: 168.2776\n",
      "Epoch 9/100\n",
      "28028/28028 [==============================] - 9s 310us/step - loss: 365.7926 - val_loss: 162.7020\n",
      "Epoch 10/100\n",
      "28028/28028 [==============================] - 9s 311us/step - loss: 333.2044 - val_loss: 175.8254\n",
      "Epoch 11/100\n",
      "28028/28028 [==============================] - 9s 314us/step - loss: 310.0711 - val_loss: 217.5475\n",
      "Epoch 12/100\n",
      "28028/28028 [==============================] - 9s 312us/step - loss: 295.4696 - val_loss: 206.9570\n",
      "Epoch 13/100\n",
      "28028/28028 [==============================] - 9s 311us/step - loss: 279.3817 - val_loss: 210.8724\n",
      "Epoch 14/100\n",
      "28028/28028 [==============================] - 9s 311us/step - loss: 265.2248 - val_loss: 226.2575\n",
      "Epoch 15/100\n",
      "28028/28028 [==============================] - 9s 311us/step - loss: 244.2296 - val_loss: 240.5580\n",
      "Epoch 16/100\n",
      "28028/28028 [==============================] - 9s 312us/step - loss: 231.7965 - val_loss: 252.6006\n",
      "Epoch 17/100\n",
      "28028/28028 [==============================] - 9s 313us/step - loss: 216.1437 - val_loss: 241.0594\n",
      "Epoch 18/100\n",
      "28028/28028 [==============================] - 9s 310us/step - loss: 198.4849 - val_loss: 255.2795\n",
      "Epoch 19/100\n",
      "28028/28028 [==============================] - 9s 312us/step - loss: 185.0567 - val_loss: 254.2346\n",
      "Epoch 20/100\n",
      "28028/28028 [==============================] - 9s 310us/step - loss: 174.8182 - val_loss: 261.6484\n",
      "Epoch 21/100\n",
      "28028/28028 [==============================] - 9s 312us/step - loss: 164.0006 - val_loss: 245.9472\n",
      "Epoch 22/100\n",
      "28028/28028 [==============================] - 9s 310us/step - loss: 159.1560 - val_loss: 235.2534\n",
      "Epoch 23/100\n",
      "28028/28028 [==============================] - 9s 311us/step - loss: 152.4967 - val_loss: 214.9036\n",
      "Epoch 24/100\n",
      "28028/28028 [==============================] - 9s 312us/step - loss: 140.8579 - val_loss: 217.2127\n",
      "Epoch 25/100\n",
      "28028/28028 [==============================] - 9s 315us/step - loss: 133.3372 - val_loss: 214.1274\n",
      "Epoch 26/100\n",
      "28028/28028 [==============================] - 9s 311us/step - loss: 126.5750 - val_loss: 214.5153\n",
      "Epoch 27/100\n",
      "28028/28028 [==============================] - 9s 311us/step - loss: 116.9175 - val_loss: 197.1752\n",
      "Epoch 28/100\n",
      "28028/28028 [==============================] - 9s 311us/step - loss: 113.7725 - val_loss: 241.4594\n",
      "Epoch 29/100\n",
      "28028/28028 [==============================] - 9s 311us/step - loss: 109.2599 - val_loss: 232.8522\n",
      "Epoch 30/100\n",
      "28028/28028 [==============================] - 9s 311us/step - loss: 109.3851 - val_loss: 192.9923\n",
      "Epoch 31/100\n",
      "28028/28028 [==============================] - 9s 311us/step - loss: 100.5027 - val_loss: 189.0167\n",
      "Epoch 32/100\n",
      "28028/28028 [==============================] - 9s 310us/step - loss: 99.4473 - val_loss: 189.4290\n",
      "Epoch 33/100\n",
      "28028/28028 [==============================] - 9s 312us/step - loss: 98.0987 - val_loss: 186.7610\n",
      "Epoch 34/100\n",
      "28028/28028 [==============================] - 9s 312us/step - loss: 97.2333 - val_loss: 180.3194\n",
      "Epoch 35/100\n",
      "28028/28028 [==============================] - 9s 311us/step - loss: 92.8476 - val_loss: 165.8489\n",
      "Epoch 36/100\n",
      "28028/28028 [==============================] - 9s 311us/step - loss: 88.8159 - val_loss: 138.9695\n",
      "Epoch 37/100\n",
      "28028/28028 [==============================] - 9s 320us/step - loss: 93.2581 - val_loss: 127.9441\n",
      "Epoch 38/100\n",
      "28028/28028 [==============================] - 9s 309us/step - loss: 86.7465 - val_loss: 148.6311\n",
      "Epoch 39/100\n",
      "28028/28028 [==============================] - 9s 312us/step - loss: 85.1478 - val_loss: 124.6442\n",
      "Epoch 40/100\n",
      "28028/28028 [==============================] - 9s 310us/step - loss: 81.9561 - val_loss: 124.7586\n",
      "Epoch 41/100\n",
      "28028/28028 [==============================] - 9s 309us/step - loss: 80.6958 - val_loss: 138.9836\n",
      "Epoch 42/100\n",
      "28028/28028 [==============================] - 9s 308us/step - loss: 79.3239 - val_loss: 148.3645\n",
      "Epoch 43/100\n",
      "28028/28028 [==============================] - 9s 309us/step - loss: 79.6839 - val_loss: 137.6521\n",
      "Epoch 44/100\n",
      "28028/28028 [==============================] - 9s 311us/step - loss: 79.2737 - val_loss: 153.2648\n",
      "Epoch 45/100\n",
      "28028/28028 [==============================] - 9s 310us/step - loss: 79.2763 - val_loss: 142.3553\n",
      "Epoch 46/100\n",
      "28028/28028 [==============================] - 9s 311us/step - loss: 73.1634 - val_loss: 134.1228\n",
      "Epoch 47/100\n",
      "28028/28028 [==============================] - 9s 310us/step - loss: 75.5715 - val_loss: 152.8568\n",
      "Epoch 48/100\n",
      "28028/28028 [==============================] - 9s 310us/step - loss: 72.1001 - val_loss: 153.7142\n",
      "Epoch 49/100\n",
      "28028/28028 [==============================] - 9s 309us/step - loss: 70.5815 - val_loss: 149.1157\n",
      "Epoch 50/100\n",
      "28028/28028 [==============================] - 9s 309us/step - loss: 71.5095 - val_loss: 127.8144\n",
      "Epoch 51/100\n",
      "28028/28028 [==============================] - 9s 310us/step - loss: 68.6785 - val_loss: 99.8114\n",
      "Epoch 52/100\n",
      "28028/28028 [==============================] - 9s 311us/step - loss: 69.7154 - val_loss: 105.3289\n",
      "Epoch 53/100\n",
      "28028/28028 [==============================] - 9s 312us/step - loss: 66.7025 - val_loss: 128.7868\n",
      "Epoch 54/100\n",
      "28028/28028 [==============================] - 9s 309us/step - loss: 66.8319 - val_loss: 115.4501\n",
      "Epoch 55/100\n",
      "28028/28028 [==============================] - 9s 308us/step - loss: 65.0597 - val_loss: 111.6828\n",
      "Epoch 56/100\n",
      "28028/28028 [==============================] - 9s 309us/step - loss: 63.3927 - val_loss: 104.7175\n",
      "Epoch 57/100\n",
      "28028/28028 [==============================] - 9s 309us/step - loss: 62.7364 - val_loss: 119.1344\n",
      "Epoch 58/100\n",
      "28028/28028 [==============================] - 9s 311us/step - loss: 64.1373 - val_loss: 147.3169\n",
      "Epoch 59/100\n",
      "28028/28028 [==============================] - 9s 309us/step - loss: 61.9548 - val_loss: 156.9053\n",
      "Epoch 60/100\n",
      "28028/28028 [==============================] - 9s 309us/step - loss: 61.2837 - val_loss: 140.7453\n",
      "Epoch 61/100\n",
      "28028/28028 [==============================] - 9s 309us/step - loss: 59.0303 - val_loss: 135.0336\n",
      "Epoch 62/100\n",
      "28028/28028 [==============================] - 9s 309us/step - loss: 60.0101 - val_loss: 139.9284\n",
      "Epoch 63/100\n",
      "28028/28028 [==============================] - 9s 310us/step - loss: 58.2562 - val_loss: 128.1863\n",
      "Epoch 64/100\n",
      "28028/28028 [==============================] - 9s 309us/step - loss: 56.6829 - val_loss: 130.8353\n",
      "Epoch 65/100\n",
      "28028/28028 [==============================] - 9s 309us/step - loss: 58.9251 - val_loss: 120.9356\n",
      "Epoch 66/100\n",
      "28028/28028 [==============================] - 9s 311us/step - loss: 58.2236 - val_loss: 104.7655\n",
      "Epoch 67/100\n",
      "28028/28028 [==============================] - 9s 308us/step - loss: 58.4402 - val_loss: 118.4346\n",
      "Epoch 68/100\n",
      "28028/28028 [==============================] - 9s 309us/step - loss: 57.0203 - val_loss: 128.2850\n",
      "Epoch 69/100\n",
      "28028/28028 [==============================] - 9s 309us/step - loss: 56.5199 - val_loss: 135.4438\n",
      "Epoch 70/100\n",
      "28028/28028 [==============================] - 9s 309us/step - loss: 55.5216 - val_loss: 132.8486\n",
      "Epoch 71/100\n"
     ]
    },
    {
     "name": "stdout",
     "output_type": "stream",
     "text": [
      "28028/28028 [==============================] - 9s 309us/step - loss: 55.5372 - val_loss: 137.0931\n",
      "Epoch 72/100\n",
      "28028/28028 [==============================] - 9s 308us/step - loss: 54.6388 - val_loss: 110.5098\n",
      "Epoch 73/100\n",
      "28028/28028 [==============================] - 9s 308us/step - loss: 53.1629 - val_loss: 115.0825\n",
      "Epoch 74/100\n",
      "28028/28028 [==============================] - 9s 308us/step - loss: 53.0968 - val_loss: 111.2299\n",
      "Epoch 75/100\n",
      "28028/28028 [==============================] - 9s 309us/step - loss: 54.1992 - val_loss: 113.5524\n",
      "Epoch 76/100\n",
      "28028/28028 [==============================] - 9s 309us/step - loss: 54.8389 - val_loss: 146.3401\n",
      "Epoch 77/100\n",
      "28028/28028 [==============================] - 9s 308us/step - loss: 53.4887 - val_loss: 138.9454\n",
      "Epoch 78/100\n",
      "28028/28028 [==============================] - 9s 308us/step - loss: 53.6855 - val_loss: 113.7687\n",
      "Epoch 79/100\n",
      "28028/28028 [==============================] - 9s 308us/step - loss: 52.3200 - val_loss: 111.0624\n",
      "Epoch 80/100\n",
      "28028/28028 [==============================] - 9s 311us/step - loss: 51.0522 - val_loss: 117.8728\n",
      "Epoch 81/100\n",
      "28028/28028 [==============================] - 9s 310us/step - loss: 51.6894 - val_loss: 142.6930\n",
      "Epoch 82/100\n",
      "28028/28028 [==============================] - 9s 308us/step - loss: 51.5369 - val_loss: 114.1293\n",
      "Epoch 83/100\n",
      "28028/28028 [==============================] - 9s 308us/step - loss: 51.0003 - val_loss: 96.0190\n",
      "Epoch 84/100\n",
      "28028/28028 [==============================] - 9s 309us/step - loss: 50.7579 - val_loss: 99.4917\n",
      "Epoch 85/100\n",
      "28028/28028 [==============================] - 9s 309us/step - loss: 51.2854 - val_loss: 111.2203\n",
      "Epoch 86/100\n",
      "28028/28028 [==============================] - 9s 310us/step - loss: 52.1064 - val_loss: 103.2093\n",
      "Epoch 87/100\n",
      "28028/28028 [==============================] - 9s 309us/step - loss: 49.9969 - val_loss: 100.1138\n",
      "Epoch 88/100\n",
      "28028/28028 [==============================] - 9s 309us/step - loss: 49.4011 - val_loss: 119.9611\n",
      "Epoch 89/100\n",
      "28028/28028 [==============================] - 9s 308us/step - loss: 48.9251 - val_loss: 125.5383\n",
      "Epoch 90/100\n",
      "28028/28028 [==============================] - 9s 308us/step - loss: 50.6713 - val_loss: 109.8878\n",
      "Epoch 91/100\n",
      "28028/28028 [==============================] - 9s 308us/step - loss: 50.2092 - val_loss: 104.7209\n",
      "Epoch 92/100\n",
      "28028/28028 [==============================] - 9s 308us/step - loss: 48.9546 - val_loss: 104.6363\n",
      "Epoch 93/100\n",
      "28028/28028 [==============================] - 9s 308us/step - loss: 47.5129 - val_loss: 122.1708\n",
      "Epoch 94/100\n",
      "28028/28028 [==============================] - 9s 310us/step - loss: 49.0066 - val_loss: 125.4258\n",
      "Epoch 95/100\n",
      "28028/28028 [==============================] - 9s 309us/step - loss: 47.1033 - val_loss: 133.1925\n",
      "Epoch 96/100\n",
      "28028/28028 [==============================] - 9s 309us/step - loss: 46.1598 - val_loss: 117.5812\n",
      "Epoch 97/100\n",
      "28028/28028 [==============================] - 9s 309us/step - loss: 47.9121 - val_loss: 134.4080\n",
      "Epoch 98/100\n",
      "28028/28028 [==============================] - 9s 308us/step - loss: 46.4968 - val_loss: 158.2068\n",
      "Epoch 99/100\n",
      "28028/28028 [==============================] - 9s 309us/step - loss: 45.3338 - val_loss: 133.8621\n",
      "Epoch 100/100\n",
      "28028/28028 [==============================] - 9s 308us/step - loss: 45.1399 - val_loss: 108.1135\n"
     ]
    }
   ],
   "source": [
    "history = model.fit(x=X_train,y=y_train, batch_size=8764, epochs=100, validation_data=(X_val,y_val))"
   ]
  },
  {
   "cell_type": "code",
   "execution_count": 10,
   "metadata": {},
   "outputs": [
    {
     "data": {
      "text/plain": [
       "Text(0, 0.5, 'loss')"
      ]
     },
     "execution_count": 10,
     "metadata": {},
     "output_type": "execute_result"
    },
    {
     "data": {
      "image/png": "[encoded data removed]",
      "text/plain": [
       "<Figure size 720x432 with 1 Axes>"
      ]
     },
     "metadata": {
      "needs_background": "light"
     },
     "output_type": "display_data"
    }
   ],
   "source": [
    "import matplotlib.pyplot as plt\n",
    "\n",
    "fig = plt.figure(figsize=(10,6))\n",
    "\n",
    "plt.plot(history.history[\"loss\"], label='train loss')\n",
    "plt.plot(history.history[\"val_loss\"], label='val loss')\n",
    "plt.legend()\n",
    "plt.xlabel('epoch')\n",
    "plt.ylabel('loss')"
   ]
  },
  {
   "cell_type": "markdown",
   "metadata": {},
   "source": [
    "# Test model"
   ]
  },
  {
   "cell_type": "code",
   "execution_count": 11,
   "metadata": {},
   "outputs": [],
   "source": [
    "predictions = model.predict(X_test)"
   ]
  },
  {
   "cell_type": "code",
   "execution_count": 12,
   "metadata": {},
   "outputs": [
    {
     "data": {
      "text/plain": [
       "<matplotlib.legend.Legend at 0x7f4135e03908>"
      ]
     },
     "execution_count": 12,
     "metadata": {},
     "output_type": "execute_result"
    },
    {
     "data": {
      "image/png": "[encoded data removed]",
      "text/plain": [
       "<Figure size 1440x216 with 1 Axes>"
      ]
     },
     "metadata": {
      "needs_background": "light"
     },
     "output_type": "display_data"
    }
   ],
   "source": [
    "limit = 168\n",
    "x = list(range(len(y_test[:limit])))\n",
    "plt.figure(figsize=(20,3))\n",
    "plt.scatter(x, y_test[:limit], label='test')\n",
    "plt.scatter(x, predictions[:limit], label='prediction')\n",
    "plt.legend()"
   ]
  },
  {
   "cell_type": "code",
   "execution_count": null,
   "metadata": {},
   "outputs": [],
   "source": []
  }
 ],
 "metadata": {
  "kernelspec": {
   "display_name": "Python 3",
   "language": "python",
   "name": "python3"
  },
  "language_info": {
   "codemirror_mode": {
    "name": "ipython",
    "version": 3
   },
   "file_extension": ".py",
   "mimetype": "text/x-python",
   "name": "python",
   "nbconvert_exporter": "python",
   "pygments_lexer": "ipython3",
   "version": "3.7.1"
  }
 },
 "nbformat": 4,
 "nbformat_minor": 2
}
